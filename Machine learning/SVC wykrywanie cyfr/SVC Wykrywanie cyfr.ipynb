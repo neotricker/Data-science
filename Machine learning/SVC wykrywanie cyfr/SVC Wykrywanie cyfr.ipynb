{
 "cells": [
  {
   "cell_type": "code",
   "execution_count": 4,
   "metadata": {},
   "outputs": [
    {
     "name": "stdout",
     "output_type": "stream",
     "text": [
      "Skuteczność: 0.9943502824858758\n",
      "Znak: 8\n",
      "Klaster: 8\n"
     ]
    }
   ],
   "source": [
    "from sklearn import datasets\n",
    "from sklearn.svm import SVC\n",
    "from sklearn.model_selection import train_test_split\n",
    "\n",
    "digits = datasets.load_digits()\n",
    "\n",
    "images_and_labels = list(zip(digits.images, digits.target))\n",
    "\n",
    "training_data = digits.data[:1770]\n",
    "manual_test_data = digits.data[1770:]\n",
    "\n",
    "training_target = digits.target[:1770]\n",
    "manual_test_target = digits.target[1770:]\n",
    "\n",
    "x_train, x_test, y_train, y_test = train_test_split(training_data, training_target, test_size=0.2, random_state=1)\n",
    "\n",
    "model = SVC(gamma=0.001, C=10)\n",
    "\n",
    "model.fit(x_train, y_train)\n",
    "print(\"Skuteczność: %s\" % model.score(x_test, y_test))\n",
    "\n",
    "element = 26\n",
    "\n",
    "print(\"Znak: %d\" % manual_test_target[element])\n",
    "print(\"Klaster: %d\" % model.predict([manual_test_data[element]])[0])\n"
   ]
  },
  {
   "cell_type": "code",
   "execution_count": null,
   "metadata": {},
   "outputs": [],
   "source": []
  }
 ],
 "metadata": {
  "kernelspec": {
   "display_name": "Python 3",
   "language": "python",
   "name": "python3"
  },
  "language_info": {
   "codemirror_mode": {
    "name": "ipython",
    "version": 3
   },
   "file_extension": ".py",
   "mimetype": "text/x-python",
   "name": "python",
   "nbconvert_exporter": "python",
   "pygments_lexer": "ipython3",
   "version": "3.7.1"
  }
 },
 "nbformat": 4,
 "nbformat_minor": 2
}
