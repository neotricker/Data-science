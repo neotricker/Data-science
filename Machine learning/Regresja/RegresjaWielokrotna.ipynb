{
 "cells": [
  {
   "cell_type": "code",
   "execution_count": 5,
   "metadata": {},
   "outputs": [
    {
     "data": {
      "text/plain": [
       "array(['Ideal', 'Premium', 'Good', 'Very Good', 'Fair'], dtype=object)"
      ]
     },
     "execution_count": 5,
     "metadata": {},
     "output_type": "execute_result"
    }
   ],
   "source": [
    "#wczyranie danych\n",
    "import pandas\n",
    "df = pandas.read_csv(\"diamonds_multi.csv\", header = 0, sep=\";\")\n",
    "df.head()\n",
    "df[\"cut\"].unique()"
   ]
  },
  {
   "cell_type": "code",
   "execution_count": 7,
   "metadata": {},
   "outputs": [
    {
     "data": {
      "text/html": [
       "<div>\n",
       "<style scoped>\n",
       "    .dataframe tbody tr th:only-of-type {\n",
       "        vertical-align: middle;\n",
       "    }\n",
       "\n",
       "    .dataframe tbody tr th {\n",
       "        vertical-align: top;\n",
       "    }\n",
       "\n",
       "    .dataframe thead th {\n",
       "        text-align: right;\n",
       "    }\n",
       "</style>\n",
       "<table border=\"1\" class=\"dataframe\">\n",
       "  <thead>\n",
       "    <tr style=\"text-align: right;\">\n",
       "      <th></th>\n",
       "      <th>price</th>\n",
       "      <th>carat</th>\n",
       "      <th>x</th>\n",
       "      <th>y</th>\n",
       "      <th>z</th>\n",
       "      <th>colorNumber</th>\n",
       "      <th>cutNumber</th>\n",
       "    </tr>\n",
       "  </thead>\n",
       "  <tbody>\n",
       "    <tr>\n",
       "      <th>0</th>\n",
       "      <td>326</td>\n",
       "      <td>0.23</td>\n",
       "      <td>3.95</td>\n",
       "      <td>3.98</td>\n",
       "      <td>2.43</td>\n",
       "      <td>6</td>\n",
       "      <td>5</td>\n",
       "    </tr>\n",
       "    <tr>\n",
       "      <th>1</th>\n",
       "      <td>326</td>\n",
       "      <td>0.21</td>\n",
       "      <td>3.89</td>\n",
       "      <td>3.84</td>\n",
       "      <td>2.31</td>\n",
       "      <td>6</td>\n",
       "      <td>4</td>\n",
       "    </tr>\n",
       "    <tr>\n",
       "      <th>2</th>\n",
       "      <td>327</td>\n",
       "      <td>0.23</td>\n",
       "      <td>4.05</td>\n",
       "      <td>4.07</td>\n",
       "      <td>2.31</td>\n",
       "      <td>6</td>\n",
       "      <td>2</td>\n",
       "    </tr>\n",
       "    <tr>\n",
       "      <th>3</th>\n",
       "      <td>334</td>\n",
       "      <td>0.29</td>\n",
       "      <td>4.20</td>\n",
       "      <td>4.23</td>\n",
       "      <td>2.63</td>\n",
       "      <td>2</td>\n",
       "      <td>4</td>\n",
       "    </tr>\n",
       "    <tr>\n",
       "      <th>4</th>\n",
       "      <td>335</td>\n",
       "      <td>0.31</td>\n",
       "      <td>4.34</td>\n",
       "      <td>4.35</td>\n",
       "      <td>2.75</td>\n",
       "      <td>1</td>\n",
       "      <td>2</td>\n",
       "    </tr>\n",
       "  </tbody>\n",
       "</table>\n",
       "</div>"
      ],
      "text/plain": [
       "   price  carat     x     y     z  colorNumber  cutNumber\n",
       "0    326   0.23  3.95  3.98  2.43            6          5\n",
       "1    326   0.21  3.89  3.84  2.31            6          4\n",
       "2    327   0.23  4.05  4.07  2.31            6          2\n",
       "3    334   0.29  4.20  4.23  2.63            2          4\n",
       "4    335   0.31  4.34  4.35  2.75            1          2"
      ]
     },
     "execution_count": 7,
     "metadata": {},
     "output_type": "execute_result"
    }
   ],
   "source": [
    "#przygotowanie danych\n",
    "colorMap = {\n",
    "    'D': 7,\n",
    "    'E': 6,\n",
    "    'F': 5,\n",
    "    'G': 4,\n",
    "    'H': 3,\n",
    "    'I': 2,\n",
    "    'J': 1 \n",
    "}\n",
    "\n",
    "cutMap = {\n",
    "    'Ideal': 5,\n",
    "    'Premium': 4,\n",
    "    'Very Good': 3,\n",
    "    'Good': 2,\n",
    "    'Fair': 1\n",
    "}\n",
    "df['colorNumber'] = df['color'].map(colorMap)\n",
    "df['cutNumber'] = df['cut'].map(cutMap)\n",
    "newdf = df.drop(['color','cut'], axis = 1)\n",
    "newdf.head()"
   ]
  },
  {
   "cell_type": "code",
   "execution_count": 8,
   "metadata": {},
   "outputs": [],
   "source": [
    "#podział na dane treningowe i testowe\n",
    "from sklearn.model_selection import train_test_split\n",
    "X_diam = newdf[['carat','x','y','z','colorNumber','cutNumber']]\n",
    "y_diam = newdf[['price']]\n",
    "Xtrain, Xtest, ytrain, ytest = train_test_split(X_diam, y_diam, random_state=1)"
   ]
  },
  {
   "cell_type": "code",
   "execution_count": 9,
   "metadata": {},
   "outputs": [],
   "source": [
    "#przygotowanie modelu\n",
    "from sklearn import linear_model\n",
    "regr = linear_model.LinearRegression()"
   ]
  },
  {
   "cell_type": "code",
   "execution_count": 10,
   "metadata": {},
   "outputs": [
    {
     "data": {
      "text/plain": [
       "LinearRegression(copy_X=True, fit_intercept=True, n_jobs=None,\n",
       "         normalize=False)"
      ]
     },
     "execution_count": 10,
     "metadata": {},
     "output_type": "execute_result"
    }
   ],
   "source": [
    "#trenowanie modelu\n",
    "regr.fit(Xtrain, ytrain)"
   ]
  },
  {
   "cell_type": "code",
   "execution_count": 11,
   "metadata": {},
   "outputs": [],
   "source": [
    "#predykcja na danych losowych\n",
    "y_pred = regr.predict(Xtest)"
   ]
  },
  {
   "cell_type": "code",
   "execution_count": 18,
   "metadata": {},
   "outputs": [
    {
     "name": "stdout",
     "output_type": "stream",
     "text": [
      "Współczynnik a: [[10676.58150787 -1053.57878756    98.93692585  -258.39105387\n",
      "    262.17087902   270.03638911]]\n",
      "Wyraz wolny: [-405.8428049]\n",
      "Błąd średniokwadratowy: 1974352.57\n",
      "R^2: 0.87\n"
     ]
    }
   ],
   "source": [
    "#wyniki\n",
    "from sklearn.metrics import mean_squared_error\n",
    "print(\"Współczynnik a:\", regr.coef_)\n",
    "print(\"Wyraz wolny:\", regr.intercept_)\n",
    "print(\"Błąd średniokwadratowy: %.2f\" % mean_squared_error(ytest, y_pred))\n",
    "print(\"R^2: %.2f\" % regr.score(Xtrain, ytrain))"
   ]
  },
  {
   "cell_type": "code",
   "execution_count": null,
   "metadata": {},
   "outputs": [],
   "source": []
  }
 ],
 "metadata": {
  "kernelspec": {
   "display_name": "Python 3",
   "language": "python",
   "name": "python3"
  },
  "language_info": {
   "codemirror_mode": {
    "name": "ipython",
    "version": 3
   },
   "file_extension": ".py",
   "mimetype": "text/x-python",
   "name": "python",
   "nbconvert_exporter": "python",
   "pygments_lexer": "ipython3",
   "version": "3.7.1"
  }
 },
 "nbformat": 4,
 "nbformat_minor": 2
}
